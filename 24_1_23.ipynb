{
  "nbformat": 4,
  "nbformat_minor": 0,
  "metadata": {
    "colab": {
      "provenance": [],
      "authorship_tag": "ABX9TyMWZxPnR0LiOT/EM3xVOAw6",
      "include_colab_link": true
    },
    "kernelspec": {
      "name": "python3",
      "display_name": "Python 3"
    },
    "language_info": {
      "name": "python"
    }
  },
  "cells": [
    {
      "cell_type": "markdown",
      "metadata": {
        "id": "view-in-github",
        "colab_type": "text"
      },
      "source": [
        "<a href=\"https://colab.research.google.com/github/kirtimaya123/KIRTIMAYA_AIML_48/blob/main/24_1_23.ipynb\" target=\"_parent\"><img src=\"https://colab.research.google.com/assets/colab-badge.svg\" alt=\"Open In Colab\"/></a>"
      ]
    },
    {
      "cell_type": "markdown",
      "source": [],
      "metadata": {
        "id": "MEVaJLK0DGSg"
      }
    },
    {
      "cell_type": "code",
      "source": [],
      "metadata": {
        "id": "YJ80OwECDLHf"
      },
      "execution_count": null,
      "outputs": []
    },
    {
      "cell_type": "markdown",
      "source": [
        "1.INPUT RADIUS FINDS AREA OF CIRCLEAND PEREMETER OF THE CIRCLE"
      ],
      "metadata": {
        "id": "kd-SkY7zDcTs"
      }
    },
    {
      "cell_type": "code",
      "source": [
        "r=int(input(\"ENTER RADIUS OF THE CIRCLE:\"))\n",
        "area=3.141*r*r\n",
        "perimeter=2*3.141*r\n",
        "print(\"THE AREA OF CIRCLE OF GIVEN CIRCLE IS=\",area)\n",
        "print(\"THE PERIMETER OF CIRCLE OF GIVEN CIRCLE IS=\",perimeter)"
      ],
      "metadata": {
        "colab": {
          "base_uri": "https://localhost:8080/"
        },
        "id": "m0vz57X-D3Fm",
        "outputId": "be937d8d-b3fa-46c1-95a9-3702a9905d87"
      },
      "execution_count": 1,
      "outputs": [
        {
          "output_type": "stream",
          "name": "stdout",
          "text": [
            "ENTER RADIUS OF THE CIRCLE:5\n",
            "THE AREA OF CIRCLE OF GIVEN CIRCLE IS= 78.525\n",
            "THE PERIMETER OF CIRCLE OF GIVEN CIRCLE IS= 31.41\n"
          ]
        }
      ]
    },
    {
      "cell_type": "markdown",
      "source": [
        "2.INPUT KILOMETER CONVERTS TO CENTIMETER,METER AND MILIMETER"
      ],
      "metadata": {
        "id": "BRTzPfUpFxN0"
      }
    },
    {
      "cell_type": "code",
      "source": [
        " km=float (input(\"ENTER KILOMETER VALUE= \"))\n",
        " m=km*1000\n",
        " cm=km*100000\n",
        " mm=km*1000000\n",
        " print(\"THE GIVEN KILOMETER IN METER IS=\",m)\n",
        " print(\"THE GIVEN KILOMETER IN CENTIMETER IS=\",cm)\n",
        " print(\"THE GIVEN KILOMETER IN MILIMETER IS=\",mm)\n"
      ],
      "metadata": {
        "colab": {
          "base_uri": "https://localhost:8080/"
        },
        "id": "5s7DlwPPGOgp",
        "outputId": "165a39b6-3f8a-427a-edc0-0a947a43ff52"
      },
      "execution_count": 3,
      "outputs": [
        {
          "output_type": "stream",
          "name": "stdout",
          "text": [
            "ENTER KILOMETER VALUE= 7.33\n",
            "THE GIVEN KILOMETER IN METER IS= 7330.0\n",
            "THE GIVEN KILOMETER IN CENTIMETER IS= 733000.0\n",
            "THE GIVEN KILOMETER IN MILIMETER IS= 7330000.0\n"
          ]
        }
      ]
    },
    {
      "cell_type": "markdown",
      "source": [
        "3.INPUT TWO NUMBERS FIND SUM WITHOUT'+'OPERATOR"
      ],
      "metadata": {
        "id": "_3aMDXBkI8d4"
      }
    },
    {
      "cell_type": "code",
      "source": [
        "a=int(input(\"ENTER a VALUE=\"))\n",
        "b=int(input(\"ENTER b VALUE=\"))\n",
        "def sum(a,b):\n",
        "       for i in range(1,b + 1):\n",
        "           a=a+1\n",
        "       return a\n",
        "print('SUM OF NUMBERS=',sum(a,b))"
      ],
      "metadata": {
        "colab": {
          "base_uri": "https://localhost:8080/"
        },
        "id": "5_hhAAPkJn9Y",
        "outputId": "e86a6692-0c73-49c0-e5c2-87565b9350d1"
      },
      "execution_count": 8,
      "outputs": [
        {
          "output_type": "stream",
          "name": "stdout",
          "text": [
            "ENTER a VALUE=5\n",
            "ENTER b VALUE=7\n",
            "SUM OF NUMBERS= 12\n"
          ]
        }
      ]
    },
    {
      "cell_type": "markdown",
      "source": [
        "4.INPUT TWO NUMBERS FIND REMAINDER WITHOUT'%'"
      ],
      "metadata": {
        "id": "5zlY835DLvoo"
      }
    },
    {
      "cell_type": "code",
      "source": [
        "a=int(input(\"ENTER a VALUE=\"))\n",
        "b=int(input(\"ENTER b VALUE=\"))\n",
        "def rem(a,b):\n",
        "    return(a-b*(a//b))\n",
        "print(\"THE REMAINDER IS=\",rem(a,b))    "
      ],
      "metadata": {
        "colab": {
          "base_uri": "https://localhost:8080/"
        },
        "id": "5kBIC6GmMAoj",
        "outputId": "231f612f-4281-48c4-f3f6-93f2bd8e1742"
      },
      "execution_count": 9,
      "outputs": [
        {
          "output_type": "stream",
          "name": "stdout",
          "text": [
            "ENTER a VALUE=100\n",
            "ENTER b VALUE=7\n",
            "THE REMAINDER IS= 2\n"
          ]
        }
      ]
    },
    {
      "cell_type": "markdown",
      "source": [
        "5.INPUTS TEMPERATURE FINDS CELSIUS AND FAHRENHEIT AND VICE VERSA"
      ],
      "metadata": {
        "id": "fRqLkXtnNFBS"
      }
    },
    {
      "cell_type": "code",
      "source": [
        "Celsius=float(input(\"Enter the value :\"))\n",
        "Fahrenheit=(Celsius * 1.8) + 32\n",
        "print(\"The Value in Fahrenheit\",Fahrenheit)\n",
        "Fahrenheit_f=float(input(\"Enter the value : \"))\n",
        "Celsius=int((Fahrenheit - 32) / 1.8)\n",
        "print(\"The value in Celsius\",Celsius)"
      ],
      "metadata": {
        "colab": {
          "base_uri": "https://localhost:8080/"
        },
        "id": "o9mq8FRfOGx8",
        "outputId": "466304d7-5a06-49db-a600-4d6d85249f83"
      },
      "execution_count": 20,
      "outputs": [
        {
          "output_type": "stream",
          "name": "stdout",
          "text": [
            "Enter the value :23\n",
            "The Value in Fahrenheit 73.4\n",
            "Enter the value : 73.4\n",
            "The value in Celsius 23\n"
          ]
        }
      ]
    },
    {
      "cell_type": "markdown",
      "source": [
        "INPUT A NUMBER FINDS REVERSE NUMBER WITHOUT LOOPING STRUCTURE"
      ],
      "metadata": {
        "id": "1sHQuXrlT8D8"
      }
    },
    {
      "cell_type": "code",
      "source": [
        "n = int(input('Enter the number: '))\n",
        "rev = int(str(n)[::-1])\n",
        "print('The reverse number is =', rev)\n"
      ],
      "metadata": {
        "colab": {
          "base_uri": "https://localhost:8080/"
        },
        "id": "aSUn2LrwUPXq",
        "outputId": "342407d8-02cd-4ed1-82ef-8a3242d03b7d"
      },
      "execution_count": 21,
      "outputs": [
        {
          "output_type": "stream",
          "name": "stdout",
          "text": [
            "Enter the number: 123\n",
            "The reverse number is = 321\n"
          ]
        }
      ]
    }
  ]
}